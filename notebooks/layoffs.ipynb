{
  "cells": [
    {
      "cell_type": "code",
      "execution_count": 0,
      "metadata": {},
      "outputs": null,
      "source": [
        "import pandas as pd\n",
        "\n",
        "df = pd.read_csv('../data/private/layoffs_data.csv')\n",
        "\n",
        "df"
      ]
    }
  ],
  "metadata": {
    "kernelspec": {
      "display_name": "Python 3.10.8 ('.venv': poetry)",
      "language": "python",
      "name": "python3"
    },
    "language_info": {
      "codemirror_mode": {
        "name": "ipython",
        "version": 3
      },
      "file_extension": ".py",
      "mimetype": "text/x-python",
      "name": "python",
      "nbconvert_exporter": "python",
      "pygments_lexer": "ipython3",
      "version": "3.10.8"
    },
    "orig_nbformat": 4,
    "vscode": {
      "interpreter": {
        "hash": "e2d0339f974207f3246a345812350db13e0f064182e8be5d29176564245cb384"
      }
    }
  },
  "nbformat": 4,
  "nbformat_minor": 2
}