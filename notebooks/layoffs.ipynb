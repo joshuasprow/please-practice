{
  "cells": [
    {
      "cell_type": "code",
      "execution_count": 0,
      "metadata": {},
      "outputs": null,
      "source": [
        "import pandas as pd\n",
        "\n",
        "df = pd.read_csv('data/layoffs.csv')"
      ]
    }
  ],
  "metadata": {
    "kernelspec": {
      "display_name": "",
      "language": "",
      "name": ""
    },
    "language_info": {
      "codemirror_mode": {
        "name": "",
        "version": 0
      },
      "file_extension": "",
      "mimetype": "",
      "name": "python",
      "nbconvert_exporter": "",
      "pygments_lexer": "",
      "version": ""
    },
    "orig_nbformat": 4,
    "vscode": {
      "interpreter": {
        "hash": ""
      }
    }
  },
  "nbformat": 4,
  "nbformat_minor": 2
}